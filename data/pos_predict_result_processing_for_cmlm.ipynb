{
 "cells": [
  {
   "cell_type": "code",
   "execution_count": null,
   "metadata": {},
   "outputs": [],
   "source": [
    "import nltk\n",
    "from collections import defaultdict\n",
    "import re\n",
    "import pickle as pkl\n",
    "import time"
   ]
  },
  {
   "cell_type": "markdown",
   "metadata": {},
   "source": [
    "##### 1. Building a Conversion Dictionary"
   ]
  },
  {
   "cell_type": "code",
   "execution_count": null,
   "metadata": {},
   "outputs": [],
   "source": [
    "dict1 = defaultdict(list)#word2pos\n",
    "dict2 = defaultdict(list)#pos2word"
   ]
  },
  {
   "cell_type": "code",
   "execution_count": null,
   "metadata": {},
   "outputs": [],
   "source": [
    "train_data = read_txt(\"wmt14_data/train.tgt\")\n",
    "pos_train = read_txt(\"wmt14_data/pos/train.tgt\")"
   ]
  },
  {
   "cell_type": "code",
   "execution_count": null,
   "metadata": {},
   "outputs": [],
   "source": [
    "for i in range(len(train_data)):\n",
    "    line1 = train_data[i]\n",
    "    line2 = pos_train[i]\n",
    "    for j in range(len(line1)):\n",
    "        w1 = line1[j]\n",
    "        w2 = line2[j]\n",
    "        if w2 not in dict1[w1]:\n",
    "            dict1[w1].append(w2)\n",
    "        if w1 not in dict2[w2]:\n",
    "            dict2[w2].append(w1)"
   ]
  },
  {
   "cell_type": "code",
   "execution_count": null,
   "metadata": {},
   "outputs": [],
   "source": [
    "pkl.dump(dict1,open(\"wmt14_data/train_word2pos.pkl\",\"wb\"))\n",
    "pkl.dump(dict2,open(\"wmt14_data/train_pos2word.pkl\",\"wb\"))"
   ]
  },
  {
   "cell_type": "markdown",
   "metadata": {},
   "source": [
    "##### 2. POS dict to BPE dict idx"
   ]
  },
  {
   "cell_type": "code",
   "execution_count": null,
   "metadata": {},
   "outputs": [],
   "source": [
    "# please prepare a word2idx dict from cmlm model first, forms like {'<s>': 0, '<pad>': 1, '</s>': 2, ....} type dict()\n",
    "w2idx = pkl.load(open(\"wmt14_data/wmt14_cmlm_word2idx_dict.pkl\",\"rb\"))  \n",
    "w2idx = dict(sorted(w2idx.items(), key=lambda item: item[1], reverse=False))"
   ]
  },
  {
   "cell_type": "code",
   "execution_count": null,
   "metadata": {},
   "outputs": [],
   "source": [
    "idx2w = pkl.load(open(\"wmt14_data/train_pos2word.pkl\",\"rb\"))"
   ]
  },
  {
   "cell_type": "code",
   "execution_count": null,
   "metadata": {},
   "outputs": [],
   "source": [
    "# First, we bulid a Conversion Dictionary with POS tag as the key, while the value is a\n",
    "# set of words that can be assigned to this POS tag. we then convert the value a binarized vector (length=vocabulary size)\n",
    "import torch\n",
    "pos_vocab = defaultdict(list)\n",
    "for key in idx2w.keys():\n",
    "    words = idx2w[key]\n",
    "    words2 = list(w2idx.keys())\n",
    "    one_hot = []\n",
    "    for i in range(length):\n",
    "        if words2[i] in words:\n",
    "            one_hot.append(1)\n",
    "        else:\n",
    "            one_hot.append(0)\n",
    "    pos_vocab[key] = torch.FloatTensor(one_hot)"
   ]
  },
  {
   "cell_type": "code",
   "execution_count": null,
   "metadata": {},
   "outputs": [],
   "source": [
    "pos_vocab[\"<mask>\"] = torch.FloatTensor([0,0,0,0,1]+[0 for i in range(length-5)])\n",
    "pos_vocab[\"<unk>\"] = torch.FloatTensor([0,0,0,1]+[0 for i in range(length-4)])\n",
    "pos_vocab[\"</s>\"] = torch.FloatTensor([0,0,1]+[0 for i in range(length-3)])\n",
    "pos_vocab[\"<pad>\"] = torch.FloatTensor([0,1]+[0 for i in range(length-2)])\n",
    "pos_vocab[\"<s>\"] = torch.FloatTensor([1]+[0 for i in range(length-1)])"
   ]
  },
  {
   "cell_type": "code",
   "execution_count": null,
   "metadata": {},
   "outputs": [],
   "source": [
    "for key in pos_vocab.keys():\n",
    "    print(key,sum(pos_vocab[key])*100/len(pos_vocab[key]))"
   ]
  },
  {
   "cell_type": "code",
   "execution_count": null,
   "metadata": {},
   "outputs": [],
   "source": [
    "pkl.dump(pos_vocab,open(\"wmt14_data/pos2vocab_onehot_cmlm.pkl\",\"wb\"))"
   ]
  },
  {
   "cell_type": "code",
   "execution_count": null,
   "metadata": {},
   "outputs": [],
   "source": [
    "pos_vocab = pkl.load(open(\"wmt14_data/pos2vocab_onehot_cmlm.pkl\",\"rb\"))"
   ]
  },
  {
   "cell_type": "code",
   "execution_count": null,
   "metadata": {},
   "outputs": [],
   "source": [
    "pos_test = read_txt(\"\") # please #fill with the user dir# in step3"
   ]
  },
  {
   "cell_type": "code",
   "execution_count": null,
   "metadata": {},
   "outputs": [],
   "source": [
    "#generate a binarized mask matrix for the test set\n",
    "pos_metric = defaultdict(list)\n",
    "for i in range(len(pos_test)):\n",
    "    line = pos_test[i]\n",
    "    pos = []\n",
    "    for j in range(len(line)):\n",
    "        pos.append(pos_vocab[line[j]])\n",
    "    pos.append(pos_vocab[\"</s>\"])\n",
    "    pos_metric[i]=pos"
   ]
  },
  {
   "cell_type": "code",
   "execution_count": null,
   "metadata": {},
   "outputs": [],
   "source": [
    "pkl.dump(pos_metric,open(\"wmt14_data/wmt14_test_posmask_for_cmlm.pkl\",\"wb\"))"
   ]
  }
 ],
 "metadata": {
  "kernelspec": {
   "display_name": "Python 3",
   "language": "python",
   "name": "python3"
  },
  "language_info": {
   "codemirror_mode": {
    "name": "ipython",
    "version": 3
   },
   "file_extension": ".py",
   "mimetype": "text/x-python",
   "name": "python",
   "nbconvert_exporter": "python",
   "pygments_lexer": "ipython3",
   "version": "3.6.0"
  }
 },
 "nbformat": 4,
 "nbformat_minor": 2
}
