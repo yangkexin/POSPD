{
 "cells": [
  {
   "cell_type": "code",
   "execution_count": null,
   "metadata": {},
   "outputs": [],
   "source": [
    "import nltk\n",
    "from collections import defaultdict\n",
    "import re\n",
    "import pickle as pkl\n",
    "import time"
   ]
  },
  {
   "cell_type": "code",
   "execution_count": null,
   "metadata": {},
   "outputs": [],
   "source": [
    "limit_data = read_txt(\"data/pos_limit100.txt\")\n",
    "l_keys = []\n",
    "l_ids = []\n",
    "for line in limit_data:\n",
    "    l_keys.append(line[0])\n",
    "    l_ids.append(line[1])\n",
    "limit_dict = dict(zip(l_keys,l_ids))"
   ]
  },
  {
   "cell_type": "code",
   "execution_count": null,
   "metadata": {},
   "outputs": [],
   "source": [
    "def read_txt(file):\n",
    "    f = open(file,\"r\",encoding=\"utf-8\")\n",
    "    text = []\n",
    "    data = f.read().splitlines()\n",
    "    for line in data:\n",
    "        line = line.split()\n",
    "        text.append(line)\n",
    "    return text\n",
    "\n",
    "def save_txt(text,file):\n",
    "    f = open(file,\"w\",encoding=\"utf-8\")\n",
    "    for line in text:\n",
    "        f.write(\" \".join(line)+\"\\n\")\n",
    "    f.close()\n",
    "    print(\"write file to:\"+ file)\n",
    "\n",
    "def process_bpe(text):\n",
    "    #recover sentences from bpe sentences\n",
    "    clean =[]\n",
    "    for line in text:\n",
    "        a = \" \".join(line)\n",
    "        clean.append(\" \".join(line).replace(\" ##\",\"\").split())\n",
    "    return clean\n",
    "\n",
    "def pos_subid(pos_tag,ids):\n",
    "    a = int(limit_dict[pos_tag])\n",
    "    if a==0:\n",
    "        return pos_tag\n",
    "    elif ids < a:\n",
    "        return pos_tag+str(ids)\n",
    "    else:\n",
    "        return pos_tag+str(a)\n",
    "\n",
    "def getpos_bpe(data1,data2):\n",
    "    \"\"\"\n",
    "    data1 = list of bpe sentences\n",
    "    data2 = list of raw sentences\n",
    "    \"\"\"\n",
    "    pos_test = []\n",
    "    time1 = time.time()\n",
    "    for i in range(len(data1)):\n",
    "        if i %100000 ==1:\n",
    "            print(i)\n",
    "            print(time.time()-time1)\n",
    "            print(\"#\"*66)\n",
    "            time1=time.time()\n",
    "        pos = []\n",
    "        line = data1[i]\n",
    "        pos_line = nltk.pos_tag(data2[i])\n",
    "        p_line = []\n",
    "        for w,p in pos_line:\n",
    "            if w == p or w in [\":\",\"?\",\"-\",\"...\",\";\",\"--\",\"!\"] or p in [\"(\",\")\",\"``\"]:\n",
    "                p_line.append(\"PCT\")  \n",
    "            else:\n",
    "                #combining \"(\",\")\"and\"``\" are named as PCT,\n",
    "                #\"''\"and\"$\" are named as SYM$, WP$ is combined to WP\n",
    "                if p in [\"$\",\"''\",\"SYM\"]:\n",
    "                    p_line.append(\"SYM$\")\n",
    "                elif p==\"WP$\":\n",
    "                    p_line.append(\"WP\")\n",
    "                else:\n",
    "                    p_line.append(p)\n",
    "        j=0\n",
    "        n = 0\n",
    "\n",
    "        while j < len(line):\n",
    "            if j==len(line)-1:\n",
    "                pos.append(p_line[n])\n",
    "                break\n",
    "            else:\n",
    "                if \"##\" not in line[j+1]:\n",
    "                    pos.append(p_line[n])\n",
    "                    j+=1\n",
    "                else:\n",
    "                    k=1\n",
    "                    while k:\n",
    "                        if j+k==len(line): \n",
    "                            pos.append(pos_subid(p_line[n],k))\n",
    "                            break\n",
    "                        pos.append(pos_subid(p_line[n],k))\n",
    "                        if \"##\" not in line[j+k]:\n",
    "    #                         pos.append(pos_subid(p_line[n],k+1))\n",
    "                            break\n",
    "                        k+=1      \n",
    "                    j = j+k\n",
    "                n+=1\n",
    "\n",
    "        assert len(pos)==len(line)\n",
    "        pos_test.append(pos) \n",
    "    return pos_test"
   ]
  },
  {
   "cell_type": "code",
   "execution_count": null,
   "metadata": {},
   "outputs": [],
   "source": [
    "test_data1 = read_txt(\"wmt14_data/test.tgt\")#bpe\n",
    "test_data2 = process_bpe(test_data1) #without bpe\n",
    "test_pos = getpos_bpe(test_data1,test_data2)\n",
    "save_txt(test_pos,\"wmt14_data/pos/test.tgt\")"
   ]
  },
  {
   "cell_type": "code",
   "execution_count": null,
   "metadata": {},
   "outputs": [],
   "source": [
    "train_data1 = read_txt(\"wmt14_data/train.tgt\")#bpe\n",
    "train_data2 = process_bpe(train_data1) #without bpe\n",
    "train_pos = getpos_bpe(train_data1,train_data2)\n",
    "save_txt(train_pos,\"wmt14_data/pos/train.tgt\")"
   ]
  },
  {
   "cell_type": "code",
   "execution_count": null,
   "metadata": {},
   "outputs": [],
   "source": [
    "valid_data1 = read_txt(\"wmt14_data/valid.tgt\")#bpe\n",
    "valid_data2 = process_bpe(valid_data1) #without bpe\n",
    "valid_pos = getpos_bpe(valid_data1,valid_data2)\n",
    "save_txt(valid_pos,\"wmt14_data/pos/valid.tgt\")"
   ]
  }
 ],
 "metadata": {
  "kernelspec": {
   "display_name": "Python 3",
   "language": "python",
   "name": "python3"
  },
  "language_info": {
   "codemirror_mode": {
    "name": "ipython",
    "version": 3
   },
   "file_extension": ".py",
   "mimetype": "text/x-python",
   "name": "python",
   "nbconvert_exporter": "python",
   "pygments_lexer": "ipython3",
   "version": "3.6.0"
  }
 },
 "nbformat": 4,
 "nbformat_minor": 2
}
